{
 "cells": [
  {
   "cell_type": "code",
   "execution_count": 119,
   "metadata": {},
   "outputs": [],
   "source": [
    "import torchvision.models as models\n",
    "import torchvision.datasets as dset\n",
    "import torchvision.transforms as trn\n",
    "import torch, torchvision\n",
    "import torch.nn as nn\n",
    "import torch.nn.functional as F\n",
    "import torch.optim as optim\n",
    "import torch.nn.init as init\n",
    "\n",
    "import numpy as np\n",
    "import matplotlib.pyplot as plt\n",
    "\n",
    "import ipywidgets as widgets\n",
    "from ipywidgets import interact, interact_manual\n",
    "\n",
    "from tqdm.notebook import tqdm"
   ]
  },
  {
   "cell_type": "code",
   "execution_count": 32,
   "metadata": {},
   "outputs": [
    {
     "name": "stdout",
     "output_type": "stream",
     "text": [
      "Done\n"
     ]
    }
   ],
   "source": [
    "def conv3x3(in_planes, out_planes, stride=1):\n",
    "    return nn.Conv2d(in_planes, out_planes, kernel_size=3, stride=stride, padding=1, bias=False)\n",
    "\n",
    "class BasicBlock(nn.Module):\n",
    "    expansion = 1\n",
    "\n",
    "    def __init__(self, in_planes, planes, stride=1):\n",
    "        super(BasicBlock, self).__init__()\n",
    "        self.conv1 = conv3x3(in_planes, planes, stride)\n",
    "        self.bn1 = nn.BatchNorm2d(planes)\n",
    "        self.conv2 = conv3x3(planes, planes)\n",
    "        self.bn2 = nn.BatchNorm2d(planes)\n",
    "\n",
    "        self.shortcut = nn.Sequential()\n",
    "        if stride != 1 or in_planes != self.expansion*planes:\n",
    "            self.shortcut = nn.Sequential(\n",
    "                nn.Conv2d(in_planes, self.expansion*planes, kernel_size=1, stride=stride, bias=False),\n",
    "                nn.BatchNorm2d(self.expansion*planes)\n",
    "            )\n",
    "    \n",
    "    def forward(self, x):\n",
    "        t = self.conv1(x)\n",
    "        out = F.relu(self.bn1(t))\n",
    "        t = self.conv2(out)\n",
    "        out = self.bn2(self.conv2(out))\n",
    "        t = self.shortcut(x)\n",
    "        out += t\n",
    "        out = F.relu(out)\n",
    "        \n",
    "        return out\n",
    "\n",
    "class ResNet(nn.Module):\n",
    "    def __init__(self, block, num_blocks, num_classes=10):\n",
    "        super(ResNet, self).__init__()\n",
    "        self.in_planes = 64\n",
    "\n",
    "        self.conv1 = conv3x3(3,64)\n",
    "        self.bn1 = nn.BatchNorm2d(64)\n",
    "        self.layer1 = self._make_layer(block, 64, num_blocks[0], stride=1)\n",
    "        self.layer2 = self._make_layer(block, 128, num_blocks[1], stride=2)\n",
    "        self.layer3 = self._make_layer(block, 256, num_blocks[2], stride=2)\n",
    "        self.layer4 = self._make_layer(block, 512, num_blocks[3], stride=2)\n",
    "        self.linear = nn.Linear(512*block.expansion, num_classes)\n",
    "        \n",
    "        self.collecting = False\n",
    "    \n",
    "    def _make_layer(self, block, planes, num_blocks, stride):\n",
    "        strides = [stride] + [1]*(num_blocks-1)\n",
    "        layers = []\n",
    "        for stride in strides:\n",
    "            layers.append(block(self.in_planes, planes, stride))\n",
    "            self.in_planes = planes * block.expansion\n",
    "        return nn.Sequential(*layers)\n",
    "    \n",
    "    def forward(self, x):\n",
    "        out = F.relu(self.bn1(self.conv1(x)))\n",
    "        out = self.layer1(out)\n",
    "        out = self.layer2(out)\n",
    "        out = self.layer3(out)\n",
    "        out = self.layer4(out)\n",
    "        out = F.avg_pool2d(out, 4)\n",
    "        out = out.view(out.size(0), -1)\n",
    "        y = self.linear(out)\n",
    "        return y\n",
    "    \n",
    "    def load(self, path=\"ckpts/resnet_cifar10.pth\"):\n",
    "        tm = torch.load(path,map_location=\"cpu\")        \n",
    "        self.load_state_dict(tm)\n",
    "\n",
    "\n",
    "net = ResNet(BasicBlock, [3,4,6,3], num_classes=10)\n",
    "net.load()\n",
    "net.eval()\n",
    "print(\"Done\")"
   ]
  },
  {
   "cell_type": "code",
   "execution_count": 33,
   "metadata": {},
   "outputs": [
    {
     "name": "stdout",
     "output_type": "stream",
     "text": [
      "Files already downloaded and verified\n"
     ]
    }
   ],
   "source": [
    "data = list(torch.utils.data.DataLoader(\n",
    "        dset.CIFAR10('./data', \n",
    "                     train=False, \n",
    "                     transform=trn.Compose([trn.ToTensor()]), \n",
    "                     download=True),\n",
    "        batch_size=1, shuffle=False))"
   ]
  },
  {
   "cell_type": "code",
   "execution_count": 34,
   "metadata": {},
   "outputs": [
    {
     "data": {
      "text/plain": [
       "tensor([[-0.7263, -1.5245, -1.6869,  8.9949, -1.2846,  0.2893,  1.0361, -1.4800,\n",
       "         -1.2961, -2.3218]], grad_fn=<AddmmBackward>)"
      ]
     },
     "execution_count": 34,
     "metadata": {},
     "output_type": "execute_result"
    }
   ],
   "source": [
    "torch_model(data[0][0])"
   ]
  },
  {
   "cell_type": "code",
   "execution_count": 96,
   "metadata": {},
   "outputs": [],
   "source": [
    "batch_size = 16\n",
    "mean = np.array([[0.4914, 0.4822, 0.4465]]).T\n",
    "\n",
    "std = np.array([[0.2023, 0.1994, 0.2010]]).T\n",
    "normalize = trn.Normalize((0.4914, 0.4822, 0.4465), (0.2023, 0.1994, 0.2010))\n",
    "inv_normalize = trn.Normalize((-0.4914/.2023, -0.4822/.1994, -0.4465/.2010), (1/0.2023, 1/0.1994, 1/0.2010))\n",
    "\n",
    "\n",
    "transform_test = trn.Compose([\n",
    "        trn.CenterCrop(size=(32, 32)),\n",
    "        trn.ToTensor(),\n",
    "        normalize,\n",
    "    ])\n",
    "\n",
    "test_loader = torch.utils.data.DataLoader(\n",
    "    dset.CIFAR10('data', train=False, transform=transform_test),\n",
    "    batch_size=batch_size)"
   ]
  },
  {
   "cell_type": "code",
   "execution_count": 97,
   "metadata": {},
   "outputs": [
    {
     "data": {
      "text/plain": [
       "tensor(8)"
      ]
     },
     "execution_count": 97,
     "metadata": {},
     "output_type": "execute_result"
    }
   ],
   "source": [
    "labels[2]"
   ]
  },
  {
   "cell_type": "code",
   "execution_count": 156,
   "metadata": {},
   "outputs": [
    {
     "data": {
      "text/plain": [
       "torch.Size([1, 3, 32, 32])"
      ]
     },
     "execution_count": 156,
     "metadata": {},
     "output_type": "execute_result"
    }
   ],
   "source": [
    "adv_img.shape"
   ]
  },
  {
   "cell_type": "code",
   "execution_count": null,
   "metadata": {},
   "outputs": [],
   "source": []
  },
  {
   "cell_type": "code",
   "execution_count": 159,
   "metadata": {},
   "outputs": [
    {
     "name": "stderr",
     "output_type": "stream",
     "text": [
      "Clipping input data to the valid range for imshow with RGB data ([0..1] for floats or [0..255] for integers).\n"
     ]
    },
    {
     "data": {
      "image/png": "[encoded data removed]",
      "text/plain": [
       "<Figure size 144x144 with 1 Axes>"
      ]
     },
     "metadata": {
      "needs_background": "light"
     },
     "output_type": "display_data"
    }
   ],
   "source": [
    "dataiter = iter(test_loader)\n",
    "images, labels = dataiter.next()\n",
    "\n",
    "plt.figure(figsize=(2,2))\n",
    "# show images \n",
    "plt.imshow(inv_normalize(adv_img[0]).permute(1, 2, 0), interpolation='bicubic')\n",
    "plt.show()"
   ]
  },
  {
   "cell_type": "code",
   "execution_count": null,
   "metadata": {},
   "outputs": [],
   "source": []
  },
  {
   "cell_type": "code",
   "execution_count": 99,
   "metadata": {},
   "outputs": [],
   "source": [
    "class PGD(nn.Module):\n",
    "    def __init__(self, epsilon=8./255, num_steps=10, step_size=2./255, verbose=False):\n",
    "        super().__init__()\n",
    "        self.epsilon = epsilon\n",
    "        self.num_steps = num_steps\n",
    "        self.step_size = step_size\n",
    "        self.verbose = verbose\n",
    "\n",
    "    def forward(self, model, bx, by):\n",
    "        \"\"\"\n",
    "        :param model: the classifier's forward method\n",
    "        :param bx: batch of images\n",
    "        :param by: true labels\n",
    "        :return: perturbed batch of images\n",
    "        \"\"\"\n",
    "        adv_bx = bx.detach()\n",
    "        adv_bx += torch.zeros_like(adv_bx).uniform_(-self.epsilon, self.epsilon)\n",
    "        \n",
    "        for i in range(self.num_steps):\n",
    "            adv_bx.requires_grad_()\n",
    "            \n",
    "            with torch.enable_grad():\n",
    "                logits = model(adv_bx)\n",
    "                cent_loss = F.cross_entropy(logits, by, reduction='mean')\n",
    "                loss = cent_loss\n",
    "                if self.verbose:\n",
    "                    print(\"Step: {}, Cent: {}\".format(i, cent_loss))\n",
    "                    \n",
    "            grad = torch.autograd.grad(loss, adv_bx, only_inputs=True)[0]\n",
    "            adv_bx = adv_bx.detach() + self.step_size * torch.sign(grad.detach())\n",
    "            adv_bx = torch.min(torch.max(adv_bx, bx - self.epsilon), bx + self.epsilon)\n",
    "            \n",
    "        return adv_bx"
   ]
  },
  {
   "cell_type": "code",
   "execution_count": 100,
   "metadata": {},
   "outputs": [],
   "source": [
    "adversary = PGD(verbose=True)"
   ]
  },
  {
   "cell_type": "code",
   "execution_count": 106,
   "metadata": {},
   "outputs": [
    {
     "name": "stdout",
     "output_type": "stream",
     "text": [
      "Step: 0, Cent: 0.0005517867393791676\n",
      "Step: 1, Cent: 0.0050110225565731525\n",
      "Step: 2, Cent: 0.7444676756858826\n",
      "Step: 3, Cent: 6.107702732086182\n",
      "Step: 4, Cent: 8.516261100769043\n",
      "Step: 5, Cent: 9.141530990600586\n",
      "Step: 6, Cent: 9.941553115844727\n",
      "Step: 7, Cent: 10.470118522644043\n",
      "Step: 8, Cent: 11.021723747253418\n",
      "Step: 9, Cent: 11.296401023864746\n"
     ]
    }
   ],
   "source": [
    "adv_x = adversary(net, images[:1], labels[:1])"
   ]
  },
  {
   "cell_type": "code",
   "execution_count": 107,
   "metadata": {},
   "outputs": [
    {
     "data": {
      "text/plain": [
       "tensor([5])"
      ]
     },
     "execution_count": 107,
     "metadata": {},
     "output_type": "execute_result"
    }
   ],
   "source": [
    "torch.argmax(net(adv_x), dim=1)"
   ]
  },
  {
   "cell_type": "code",
   "execution_count": 135,
   "metadata": {},
   "outputs": [],
   "source": [
    "def calculate_saliency_map(img, h, w, fx, pred):\n",
    "    print(\"calc_saliency_map\")\n",
    "    saliency_map = np.zeros((h, w))\n",
    "    mask = torch.ones((h, w, 3))\n",
    "    \n",
    "    for i in tqdm(range(h)):\n",
    "        for j in range(w): \n",
    "            mask[i][j] = torch.zeros(3)\n",
    "            out = net((img * mask).permute(2, 0, 1).unsqueeze(0)).data\n",
    "            mask[i][j] = torch.ones(3)\n",
    "            saliency_map[i][j] = fx - out[0][pred]\n",
    "                        \n",
    "    return saliency_map\n",
    "\n",
    "def norm(sm):\n",
    "    return (sm - sm.min())/(sm.max() - sm.min())\n",
    "\n",
    "def saliency_maps_for_imgs(attacker, img, label):\n",
    "    _, h, w = img[0].shape\n",
    "\n",
    "    out = net(img).data\n",
    "    pred = torch.argmax(out).item()\n",
    "    fx = out[0][pred]\n",
    "    assert label[0] == pred\n",
    "    \n",
    "    adv_img = attacker(net, img, torch.tensor([pred]))\n",
    "    out_adv = net(adv_img).data\n",
    "    pred_adv = torch.argmax(out_adv).item()\n",
    "    fx_adv = out_adv[0][pred_adv]\n",
    "    \n",
    "    assert pred_adv != pred\n",
    "    \n",
    "    sm = norm(calculate_saliency_map(img[0].permute(1, 2, 0), h, w, fx, pred))\n",
    "    sm_adv = norm(calculate_saliency_map(adv_img[0].permute(1, 2, 0), h, w, fx_adv, pred_adv))\n",
    "    \n",
    "    return sm, sm_adv, adv_img"
   ]
  },
  {
   "cell_type": "code",
   "execution_count": 136,
   "metadata": {},
   "outputs": [],
   "source": [
    "def disp_maps(sm, sm_adv, img, adv_img):\n",
    "    row = 1 \n",
    "\n",
    "    fig, axs = plt.subplots(2, 2, figsize=(14, 14))\n",
    "\n",
    "    axs[row, 0].set_title(\"Regular Saliency Map\")\n",
    "    img0 = axs[row, 0].imshow(sm, cmap=\"hot\")\n",
    "\n",
    "    axs[row, 1].set_title(\"ADV Saliency Map\")\n",
    "    axs[row, 1].imshow(sm_adv, cmap=\"hot\")\n",
    "\n",
    "    axs[1-row, 0].set_title(\"Regular – Saliency Map x Image\")\n",
    "    axs[1-row, 0].imshow(sm * img, cmap=\"hot\")\n",
    "\n",
    "    axs[1-row, 1].set_title(\"Adv – Saliency Map x Image\")\n",
    "    axs[1-row, 1].imshow(sm_adv * adv_img, cmap=\"hot\")\n",
    "\n",
    "    plt.show()\n",
    "    \n",
    "def run_iter(adversary, epsilon = 0.6, steps = 10, step_size=0.3):\n",
    "    test_iter = iter(testloader)\n",
    "    test_iter.next()\n",
    "    x, labels = test_iter.next()\n",
    "\n",
    "    attacker = PGD(epsilon=0.60, num_steps=steps, step_size=50/255, verbose=False)\n",
    "    sm, sm_adv, adv_img = saliency_maps_for_imgs(attacker, x[0,0], labels[0])\n",
    "    \n",
    "    disp_maps(sm, sm_adv, norm(x[0,0].detach().numpy()), norm(adv_img.detach().numpy()))"
   ]
  },
  {
   "cell_type": "code",
   "execution_count": 138,
   "metadata": {},
   "outputs": [
    {
     "name": "stdout",
     "output_type": "stream",
     "text": [
      "Step: 0, Cent: 0.0005144941387698054\n",
      "Step: 1, Cent: 0.005703129339963198\n",
      "Step: 2, Cent: 0.7332522869110107\n",
      "Step: 3, Cent: 5.976817607879639\n",
      "Step: 4, Cent: 8.806628227233887\n",
      "Step: 5, Cent: 9.481084823608398\n",
      "Step: 6, Cent: 10.212003707885742\n",
      "Step: 7, Cent: 10.601310729980469\n",
      "Step: 8, Cent: 11.031476020812988\n",
      "Step: 9, Cent: 11.231192588806152\n",
      "calc_saliency_map\n"
     ]
    },
    {
     "data": {
      "application/vnd.jupyter.widget-view+json": {
       "model_id": "0a18abe4081b41b0a007ab8000ffefb5",
       "version_major": 2,
       "version_minor": 0
      },
      "text/plain": [
       "HBox(children=(FloatProgress(value=0.0, max=32.0), HTML(value='')))"
      ]
     },
     "metadata": {},
     "output_type": "display_data"
    },
    {
     "name": "stdout",
     "output_type": "stream",
     "text": [
      "\n",
      "calc_saliency_map\n"
     ]
    },
    {
     "data": {
      "application/vnd.jupyter.widget-view+json": {
       "model_id": "a7d0fa2c1f6e4748b4343736113d651c",
       "version_major": 2,
       "version_minor": 0
      },
      "text/plain": [
       "HBox(children=(FloatProgress(value=0.0, max=32.0), HTML(value='')))"
      ]
     },
     "metadata": {},
     "output_type": "display_data"
    },
    {
     "name": "stdout",
     "output_type": "stream",
     "text": [
      "\n"
     ]
    }
   ],
   "source": [
    "sm, sm_adv, adv_img = saliency_maps_for_imgs(adversary, images[:1], labels[:1])"
   ]
  },
  {
   "cell_type": "code",
   "execution_count": null,
   "metadata": {
    "scrolled": true
   },
   "outputs": [],
   "source": [
    "disp_maps(sm, sm_adv, norm(images[0].detach().numpy()), norm(adv_img.detach().numpy()))"
   ]
  },
  {
   "cell_type": "code",
   "execution_count": 142,
   "metadata": {},
   "outputs": [
    {
     "data": {
      "text/plain": [
       "<matplotlib.image.AxesImage at 0x156126fd0>"
      ]
     },
     "execution_count": 142,
     "metadata": {},
     "output_type": "execute_result"
    },
    {
     "data": {
      "image/png": "[encoded data removed]",
      "text/plain": [
       "<Figure size 432x288 with 1 Axes>"
      ]
     },
     "metadata": {
      "needs_background": "light"
     },
     "output_type": "display_data"
    }
   ],
   "source": [
    "plt.imshow(sm)"
   ]
  },
  {
   "cell_type": "code",
   "execution_count": 143,
   "metadata": {},
   "outputs": [
    {
     "data": {
      "text/plain": [
       "<matplotlib.image.AxesImage at 0x156220bd0>"
      ]
     },
     "execution_count": 143,
     "metadata": {},
     "output_type": "execute_result"
    },
    {
     "data": {
      "image/png": "[encoded data removed]",
      "text/plain": [
       "<Figure size 432x288 with 1 Axes>"
      ]
     },
     "metadata": {
      "needs_background": "light"
     },
     "output_type": "display_data"
    }
   ],
   "source": [
    "plt.imshow(sm_adv)"
   ]
  },
  {
   "cell_type": "code",
   "execution_count": 151,
   "metadata": {},
   "outputs": [
    {
     "data": {
      "image/png": "[encoded data removed]",
      "text/plain": [
       "<Figure size 432x288 with 1 Axes>"
      ]
     },
     "metadata": {
      "needs_background": "light"
     },
     "output_type": "display_data"
    }
   ],
   "source": [
    "plt.hist(sm, bins=5)\n",
    "plt.show()"
   ]
  },
  {
   "cell_type": "code",
   "execution_count": 152,
   "metadata": {},
   "outputs": [
    {
     "data": {
      "image/png": "[encoded data removed]",
      "text/plain": [
       "<Figure size 432x288 with 1 Axes>"
      ]
     },
     "metadata": {
      "needs_background": "light"
     },
     "output_type": "display_data"
    }
   ],
   "source": [
    "plt.hist(sm_adv, bins=5)\n",
    "plt.show()"
   ]
  },
  {
   "cell_type": "code",
   "execution_count": null,
   "metadata": {},
   "outputs": [],
   "source": []
  }
 ],
 "metadata": {
  "kernelspec": {
   "display_name": "Python 3",
   "language": "python",
   "name": "python3"
  },
  "language_info": {
   "codemirror_mode": {
    "name": "ipython",
    "version": 3
   },
   "file_extension": ".py",
   "mimetype": "text/x-python",
   "name": "python",
   "nbconvert_exporter": "python",
   "pygments_lexer": "ipython3",
   "version": "3.7.6"
  }
 },
 "nbformat": 4,
 "nbformat_minor": 4
}
